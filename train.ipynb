{
 "cells": [
  {
   "cell_type": "code",
   "execution_count": 1,
   "id": "c520e8e5-ba45-4003-b6cc-4b508ff3f8fb",
   "metadata": {},
   "outputs": [],
   "source": [
    "import os\n",
    "import sys\n",
    "import json\n",
    "\n",
    "import torch\n",
    "import torch.nn as nn\n",
    "from torchvision import transforms, datasets\n",
    "import torch.optim as optim\n",
    "from tqdm import tqdm\n",
    "\n",
    "from MedMamba import VSSM as medmamba # import model\n",
    "\n",
    "import utils\n",
    "from config import Config"
   ]
  },
  {
   "cell_type": "code",
   "execution_count": 2,
   "id": "c807fb3f-f7c5-44f9-8cd8-21361b480fbd",
   "metadata": {},
   "outputs": [
    {
     "name": "stdout",
     "output_type": "stream",
     "text": [
      "using cuda:0 device.\n",
      "using 3150 images for training, 675 images for validation.\n"
     ]
    }
   ],
   "source": [
    "device = torch.device(\"cuda:0\" if torch.cuda.is_available() else \"cpu\")\n",
    "print(\"using {} device.\".format(device))\n",
    "\n",
    "train_dataset, validate_dataset, test_dataset = utils.load_dataset(Config.DATA_DIR)\n",
    "print(\"using {} images for training, {} images for validation.\".format(len(train_dataset), len(validate_dataset)))\n",
    "\n",
    "train_loader = torch.utils.data.DataLoader(train_dataset, batch_size=Config.BATCH_SIZE, shuffle=True, num_workers=Config.NUM_WORKER)\n",
    "validate_loader = torch.utils.data.DataLoader(validate_dataset, batch_size=Config.BATCH_SIZE, shuffle=False, num_workers=Config.NUM_WORKER)"
   ]
  },
  {
   "cell_type": "code",
   "execution_count": 3,
   "id": "7454fd89-1501-4613-86c0-be2045c63c3e",
   "metadata": {},
   "outputs": [
    {
     "name": "stdout",
     "output_type": "stream",
     "text": [
      "train epoch[1/20] loss:0.407: 100%|██████████| 99/99 [00:17<00:00,  5.61it/s]\n",
      "100%|██████████| 22/22 [00:01<00:00, 17.02it/s]\n",
      "[epoch 1] train_loss: 0.668  val_accuracy: 0.895\n",
      "train epoch[2/20] loss:0.270: 100%|██████████| 99/99 [00:16<00:00,  6.12it/s]\n",
      "100%|██████████| 22/22 [00:01<00:00, 16.71it/s]\n",
      "[epoch 2] train_loss: 0.293  val_accuracy: 0.935\n",
      "train epoch[3/20] loss:0.131: 100%|██████████| 99/99 [00:16<00:00,  6.11it/s]\n",
      "100%|██████████| 22/22 [00:01<00:00, 16.91it/s]\n",
      "[epoch 3] train_loss: 0.205  val_accuracy: 0.942\n",
      "train epoch[4/20] loss:0.103: 100%|██████████| 99/99 [00:16<00:00,  6.04it/s]\n",
      "100%|██████████| 22/22 [00:01<00:00, 17.30it/s]\n",
      "[epoch 4] train_loss: 0.132  val_accuracy: 0.926\n",
      "train epoch[5/20] loss:0.087: 100%|██████████| 99/99 [00:16<00:00,  6.03it/s]\n",
      "100%|██████████| 22/22 [00:01<00:00, 17.59it/s]\n",
      "[epoch 5] train_loss: 0.075  val_accuracy: 0.950\n",
      "train epoch[6/20] loss:0.015: 100%|██████████| 99/99 [00:16<00:00,  6.06it/s]\n",
      "100%|██████████| 22/22 [00:01<00:00, 19.67it/s]\n",
      "[epoch 6] train_loss: 0.048  val_accuracy: 0.945\n",
      "train epoch[7/20] loss:0.065: 100%|██████████| 99/99 [00:16<00:00,  6.04it/s]\n",
      "100%|██████████| 22/22 [00:01<00:00, 18.58it/s]\n",
      "[epoch 7] train_loss: 0.030  val_accuracy: 0.938\n",
      "train epoch[8/20] loss:0.160: 100%|██████████| 99/99 [00:16<00:00,  6.17it/s]\n",
      "100%|██████████| 22/22 [00:01<00:00, 18.52it/s]\n",
      "[epoch 8] train_loss: 0.019  val_accuracy: 0.954\n",
      "train epoch[9/20] loss:0.003: 100%|██████████| 99/99 [00:16<00:00,  6.16it/s]\n",
      "100%|██████████| 22/22 [00:01<00:00, 17.00it/s]\n",
      "[epoch 9] train_loss: 0.013  val_accuracy: 0.956\n",
      "train epoch[10/20] loss:0.001: 100%|██████████| 99/99 [00:16<00:00,  6.02it/s]\n",
      "100%|██████████| 22/22 [00:01<00:00, 17.65it/s]\n",
      "[epoch 10] train_loss: 0.007  val_accuracy: 0.950\n",
      "train epoch[11/20] loss:0.061: 100%|██████████| 99/99 [00:16<00:00,  5.99it/s]\n",
      "100%|██████████| 22/22 [00:01<00:00, 17.41it/s]\n",
      "[epoch 11] train_loss: 0.009  val_accuracy: 0.956\n",
      "train epoch[12/20] loss:0.014: 100%|██████████| 99/99 [00:16<00:00,  6.00it/s]\n",
      "100%|██████████| 22/22 [00:01<00:00, 17.85it/s]\n",
      "[epoch 12] train_loss: 0.016  val_accuracy: 0.935\n",
      "train epoch[13/20] loss:0.035: 100%|██████████| 99/99 [00:16<00:00,  6.08it/s]\n",
      "100%|██████████| 22/22 [00:01<00:00, 17.60it/s]\n",
      "[epoch 13] train_loss: 0.018  val_accuracy: 0.833\n",
      "train epoch[14/20] loss:0.007: 100%|██████████| 99/99 [00:16<00:00,  6.04it/s]\n",
      "100%|██████████| 22/22 [00:01<00:00, 17.01it/s]\n",
      "[epoch 14] train_loss: 0.027  val_accuracy: 0.938\n",
      "train epoch[15/20] loss:0.114: 100%|██████████| 99/99 [00:16<00:00,  5.98it/s]\n",
      "100%|██████████| 22/22 [00:01<00:00, 16.81it/s]\n",
      "[epoch 15] train_loss: 0.013  val_accuracy: 0.950\n",
      "train epoch[16/20] loss:0.199: 100%|██████████| 99/99 [00:16<00:00,  6.02it/s]\n",
      "100%|██████████| 22/22 [00:01<00:00, 16.88it/s]\n",
      "[epoch 16] train_loss: 0.011  val_accuracy: 0.950\n",
      "train epoch[17/20] loss:0.443: 100%|██████████| 99/99 [00:16<00:00,  6.02it/s]\n",
      "100%|██████████| 22/22 [00:01<00:00, 17.12it/s]\n",
      "[epoch 17] train_loss: 0.018  val_accuracy: 0.904\n",
      "train epoch[18/20] loss:0.010: 100%|██████████| 99/99 [00:16<00:00,  6.03it/s]\n",
      "100%|██████████| 22/22 [00:01<00:00, 16.61it/s]\n",
      "[epoch 18] train_loss: 0.019  val_accuracy: 0.951\n",
      "train epoch[19/20] loss:0.002: 100%|██████████| 99/99 [00:16<00:00,  6.00it/s]\n",
      "100%|██████████| 22/22 [00:01<00:00, 16.78it/s]\n",
      "[epoch 19] train_loss: 0.014  val_accuracy: 0.942\n",
      "train epoch[20/20] loss:0.095: 100%|██████████| 99/99 [00:16<00:00,  5.99it/s]\n",
      "100%|██████████| 22/22 [00:01<00:00, 16.48it/s]\n",
      "[epoch 20] train_loss: 0.010  val_accuracy: 0.933\n",
      "Finished Training\n"
     ]
    }
   ],
   "source": [
    "net = medmamba(num_classes=Config.NUM_CLASS)\n",
    "net.to(device)\n",
    "loss_function = nn.CrossEntropyLoss()\n",
    "optimizer = optim.Adam(net.parameters(), lr=2e-5)\n",
    "\n",
    "epochs = Config.EPOCH\n",
    "best_acc = 0.0\n",
    "save_path = './Net.pth'\n",
    "train_steps = len(train_loader)\n",
    "for epoch in range(epochs):\n",
    "    # train\n",
    "    net.train()\n",
    "    running_loss = 0.0\n",
    "    train_bar = tqdm(train_loader, file=sys.stdout)\n",
    "    for step, data in enumerate(train_bar):\n",
    "        images, labels = data\n",
    "        optimizer.zero_grad()\n",
    "        outputs = net(images.to(device))\n",
    "        loss = loss_function(outputs, labels.to(device))\n",
    "        loss.backward()\n",
    "        optimizer.step()\n",
    "\n",
    "        # print statistics\n",
    "        running_loss += loss.item()\n",
    "\n",
    "        train_bar.desc = \"train epoch[{}/{}] loss:{:.3f}\".format(epoch + 1,\n",
    "                                                                 epochs,\n",
    "                                                                 loss)\n",
    "\n",
    "    # validate\n",
    "    net.eval()\n",
    "    acc = 0.0  # accumulate accurate number / epoch\n",
    "    with torch.no_grad():\n",
    "        val_bar = tqdm(validate_loader, file=sys.stdout)\n",
    "        for val_data in val_bar:\n",
    "            val_images, val_labels = val_data\n",
    "            outputs = net(val_images.to(device))\n",
    "            predict_y = torch.max(outputs, dim=1)[1]\n",
    "            acc += torch.eq(predict_y, val_labels.to(device)).sum().item()\n",
    "\n",
    "    val_accurate = acc / len(validate_dataset)\n",
    "    print('[epoch %d] train_loss: %.3f  val_accuracy: %.3f' %\n",
    "          (epoch + 1, running_loss / train_steps, val_accurate))\n",
    "\n",
    "    if val_accurate > best_acc:\n",
    "        best_acc = val_accurate\n",
    "        torch.save(net.state_dict(), save_path)\n",
    "\n",
    "print('Finished Training')"
   ]
  },
  {
   "cell_type": "code",
   "execution_count": 4,
   "id": "f35cc404-09df-4fe5-a4f9-e90225e84de1",
   "metadata": {},
   "outputs": [
    {
     "name": "stderr",
     "output_type": "stream",
     "text": [
      "100%|██████████| 22/22 [00:01<00:00, 17.66it/s]\n"
     ]
    },
    {
     "name": "stdout",
     "output_type": "stream",
     "text": [
      "[[224.   3.   4.]\n",
      " [  1. 214.  10.]\n",
      " [  0.   8. 211.]]\n"
     ]
    },
    {
     "data": {
      "image/png": "[encoded data removed]",
      "text/plain": [
       "<Figure size 640x480 with 2 Axes>"
      ]
     },
     "metadata": {},
     "output_type": "display_data"
    },
    {
     "name": "stdout",
     "output_type": "stream",
     "text": [
      "the model accuracy is  0.9614814814814815\n",
      "+-----------+-----------+--------+-------------+\n",
      "|           | Precision | Recall | Specificity |\n",
      "+-----------+-----------+--------+-------------+\n",
      "|   COVID   |    0.97   | 0.996  |    0.984    |\n",
      "|   NORMAL  |   0.951   | 0.951  |    0.976    |\n",
      "| PNEUMONIA |   0.963   | 0.938  |    0.982    |\n",
      "+-----------+-----------+--------+-------------+\n"
     ]
    }
   ],
   "source": [
    "test_loader = torch.utils.data.DataLoader(test_dataset, batch_size=Config.BATCH_SIZE, shuffle=False, num_workers=Config.NUM_WORKER)\n",
    "\n",
    "net = medmamba(num_classes=Config.NUM_CLASS)\n",
    "# load pretrain weights\n",
    "model_weight_path = \"./Net.pth\"\n",
    "assert os.path.exists(model_weight_path), \"cannot find {} file\".format(model_weight_path)\n",
    "net.load_state_dict(torch.load(model_weight_path, map_location=device))\n",
    "net.to(device)\n",
    "\n",
    "# read class_indict\n",
    "json_label_path = './class_indices.json'\n",
    "assert os.path.exists(json_label_path), \"cannot find {} file\".format(json_label_path)\n",
    "json_file = open(json_label_path, 'r')\n",
    "class_indict = json.load(json_file)\n",
    "\n",
    "labels = [label for _, label in class_indict.items()]\n",
    "confusion = utils.ConfusionMatrix(num_classes=Config.NUM_CLASS, labels=labels)\n",
    "net.eval()\n",
    "with torch.no_grad():\n",
    "    for val_data in tqdm(test_loader):\n",
    "        val_images, val_labels = val_data\n",
    "        outputs = net(val_images.to(device))\n",
    "        outputs = torch.softmax(outputs, dim=1)\n",
    "        outputs = torch.argmax(outputs, dim=1)\n",
    "        confusion.update(outputs.to(\"cpu\").numpy(), val_labels.to(\"cpu\").numpy())\n",
    "confusion.plot()\n",
    "confusion.summary()"
   ]
  },
  {
   "cell_type": "code",
   "execution_count": null,
   "id": "98f61d76-0380-4b3a-9386-9ca0c1274e3b",
   "metadata": {},
   "outputs": [],
   "source": []
  }
 ],
 "metadata": {
  "kernelspec": {
   "display_name": "Python 3 (ipykernel)",
   "language": "python",
   "name": "python3"
  },
  "language_info": {
   "codemirror_mode": {
    "name": "ipython",
    "version": 3
   },
   "file_extension": ".py",
   "mimetype": "text/x-python",
   "name": "python",
   "nbconvert_exporter": "python",
   "pygments_lexer": "ipython3",
   "version": "3.10.12"
  }
 },
 "nbformat": 4,
 "nbformat_minor": 5
}
